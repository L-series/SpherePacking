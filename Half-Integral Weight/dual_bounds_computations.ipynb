{
 "cells": [
  {
   "cell_type": "code",
   "execution_count": 9,
   "metadata": {},
   "outputs": [],
   "source": [
    "import matplotlib.pyplot as plt \n",
    "import numpy as np \n",
    "#import pandas as pd"
   ]
  },
  {
   "cell_type": "code",
   "execution_count": 10,
   "metadata": {},
   "outputs": [],
   "source": [
    "load(\"loader.sage\")\n",
    "#from sage.numerical.backends.generic_backend import get_solver"
   ]
  },
  {
   "cell_type": "code",
   "execution_count": 11,
   "metadata": {},
   "outputs": [],
   "source": [
    "#this is for weight below is a code to run the optimal value of b_0 over all T up to 500."
   ]
  },
  {
   "cell_type": "code",
   "execution_count": 12,
   "metadata": {},
   "outputs": [],
   "source": [
    "list_all_density=[]\n",
    "list_all_max_density=[]"
   ]
  },
  {
   "cell_type": "code",
   "execution_count": 5,
   "metadata": {},
   "outputs": [],
   "source": [
    "#the idea is to go as follows : \n",
    "#first we compute all LP up to to level 100 and we note all those for which l is not 0.\n",
    "#we then take notes of those for which the value is non zero.\n",
    "#we then compute the potential forms with very high prec, and verify if the coefficients are non zero for large enough prec.\n",
    "#this task has to be done manually, sagemath and parigp are quite unreconciable\n",
    "\n",
    "weight=7/2\n",
    "weight2=\"7_2\"\n",
    "prec=50000\n",
    "tol=1/100000\n",
    "list_names=[]\n",
    "list_level=[]\n",
    "list_level_xj=[]\n",
    "list_triples=[]\n",
    "#list_density=[]\n",
    "start=4\n",
    "end=21 \n",
    "T=25\n",
    "for i in range(start,end):\n",
    "    list_density_vs_T=[]\n",
    "    #list_triples=[]\n",
    "    level=i\n",
    "    for j in range(2,T+1):\n",
    "        try:\n",
    "            r=REALwriteTheLP(level,weight2,prec,j,\"GLPK\")\n",
    "            a=float(2/float(level**(1/2)))\n",
    "            b=float((float(j**(1/2))/2))\n",
    "            l=float((math.pi**weight)/factorial(weight))*float(r[0])*(float(a**weight))*float(b**float(2*weight))\n",
    "            list_density_vs_T.append(l)   \n",
    "            if l!=0:\n",
    "                for s in range(len(r[1])):\n",
    "                    if abs(r[1][s])<=tol:\n",
    "                        r[1][s]=0\n",
    "                #list_density.append(l)\n",
    "                list_level_xj.append([l,i,r[1]])\n",
    "                list_triples.append([l,i,j,r[1]])\n",
    "                #filename='REAL_OPTIMAL_W'+str(weight)+\"L\"+str(i)+\".txt\"\n",
    "                #if filename not in list_names : \n",
    "                #    list_names.append(filename) \n",
    "                if i not in list_level:\n",
    "                    list_level.append(i)                \n",
    "        except:\n",
    "            list_density_vs_T.append(0)\n",
    "            \n",
    "if len(list_triples)!=0:\n",
    "    filename1=\"real_all_quadruples_W\"+str(weight2)+\"L\"+str(start)+\"-\"+str(end-1)+\".txt\"\n",
    "    with open(filename1, 'w',encoding='utf-8') as f:\n",
    "        for triple in list_triples:\n",
    "            f.writelines(str(triple)+\"\\n\")#produces a text file with l,L, T, x_j\n",
    "        f.close()\n",
    "                \n",
    "#with open(\"list_filename.txt\",'w') as s:\n",
    "#    for names in list_names:\n",
    "#        s.writelines(names+\"\\n\")\n",
    "#    s.close()\n",
    "filename2=\"real_list_levels_W\"+str(weight2)+\"L\"+str(start)+\"-\"+str(end-1)+\".txt\"\n",
    "with open(filename2,'w') as s:\n",
    "    for level in list_level:\n",
    "        s.writelines(str(level)+\"\\n\")\n",
    "    s.close()\n",
    "    \n",
    "\n",
    "    #list_all_density.append(list_density_vs_T)\n",
    "    #list_all_max_density.append([max(list_density_vs_T),i])\n",
    "    #fig=plt.figure(figsize=(9, 9))\n",
    "    #plt.xlabel('T')\n",
    "    #plt.ylabel('density') \n",
    "    #plt.plot(list_density_vs_T) \n",
    "    #plt.title('REAL - Density in function of T for level ' + str(level)+' and weight '+str(weight)+\".\") \n",
    "    #plt.draw() \n",
    "    #plotname=\"REAL_L\"+str(level)+\"W\"+str(weight)+\"P\"+str(prec)+\"-Density_vs_T.png\"\n",
    "    #fig.savefig(plotname, bbox_inches='tight', dpi=150)\n",
    "    #plt.show() \n",
    "#print()"
   ]
  },
  {
   "cell_type": "code",
   "execution_count": 14,
   "metadata": {
    "scrolled": true
   },
   "outputs": [
    {
     "name": "stdout",
     "output_type": "stream",
     "text": [
      "\n"
     ]
    }
   ],
   "source": [
    "%%gp\n",
    "/* this block prints the full spaces with higher precisison */\n",
    "/*list_level=List([]);*/\n",
    "/*f=fileopen(\"list_level_xj.txt\");*/\n",
    "/*while(s=filereadstr(f),listput(list_level,eval(s)));*/ /*here eval turns a string of digits into an int*/\n",
    "start=4;\n",
    "end=21;\n",
    "tol=1/100000;\n",
    "prec=75000;\n",
    "weight=7/2;\n",
    "weight2=\"7_2\";\n",
    "filename2=concat(\"real_list_levels_W\",Str(weight2))\n",
    "filename2=concat(filename2,\"L\")\n",
    "filename2=concat(filename2,Str(start))\n",
    "filename2=concat(filename2,\"-\")\n",
    "filename2=concat(filename2,Str(end-1))\n",
    "filename2=concat(filename2,\".txt\")\n",
    "f=fileopen(filename2);\n",
    "while(s=filereadstr(f),\\\n",
    "      level=eval(s);\\\n",
    "      imagfilenameds=concat(\"OPTIMAL_FORM_IMAG_DUAL_SPACE_L\",Str(level));\\\n",
    "      imagfilenameds=concat(imagfilenameds,\"W\");\\\n",
    "      imagfilenameds=concat(imagfilenameds,Str(weight2));\\\n",
    "      imagfilenameds=concat(imagfilenameds,\"P\");\\\n",
    "      imagfilenameds=concat(imagfilenameds,Str(prec));\\\n",
    "      imagfilenameds=concat(imagfilenameds,\".txt\");\\\n",
    "      realfilenameds=concat(\"OPTIMAL_FORM_REAL_DUAL_SPACE_L\",Str(level));\\\n",
    "      realfilenameds=concat(realfilenameds,\"W\");\\\n",
    "      realfilenameds=concat(realfilenameds,Str(weight2));\\\n",
    "      realfilenameds=concat(realfilenameds,\"P\");\\\n",
    "      realfilenameds=concat(realfilenameds,Str(prec));\\\n",
    "      realfilenameds=concat(realfilenameds,\".txt\");\\\n",
    "      imagfilenamefs=concat(\"OPTIMAL_FORM_IMAG_FULL_SPACE_L\",Str(level));\\\n",
    "      imagfilenamefs=concat(imagfilenamefs,\"W\");\\\n",
    "      imagfilenamefs=concat(imagfilenamefs,Str(weight2));\\\n",
    "      imagfilenamefs=concat(imagfilenamefs,\"P\");\\\n",
    "      imagfilenamefs=concat(imagfilenamefs,Str(prec));\\\n",
    "      imagfilenamefs=concat(imagfilenamefs,\".txt\");\\\n",
    "      realfilenamefs=concat(\"OPTIMAL_FORM_REAL_FULL_SPACE_L\",Str(level));\\\n",
    "      realfilenamefs=concat(realfilenamefs,\"W\");\\\n",
    "      realfilenamefs=concat(realfilenamefs,Str(weight2));\\\n",
    "      realfilenamefs=concat(realfilenamefs,\"P\");\\\n",
    "      realfilenamefs=concat(realfilenamefs,Str(prec));\\\n",
    "      realfilenamefs=concat(realfilenamefs,\".txt\");\\\n",
    "      filenameds=concat(\"OPTIMAL_FORM_DUAL_SPACE_L\",Str(level));\\\n",
    "      filenameds=concat(filenameds,\"W\");\\\n",
    "      filenameds=concat(filenameds,Str(weight2));\\\n",
    "      filenameds=concat(filenameds,\"P\");\\\n",
    "      filenameds=concat(filenameds,Str(prec));\\\n",
    "      filenameds=concat(filenameds,\".txt\");\\\n",
    "      filenamefs=concat(\"OPTIMAL_FORM_FULL_SPACE_L\",Str(level));\\\n",
    "      filenamefs=concat(filenamefs,\"W\");\\\n",
    "      filenamefs=concat(filenamefs,Str(weight2));\\\n",
    "      filenamefs=concat(filenamefs,\"P\");\\\n",
    "      filenamefs=concat(filenamefs,Str(prec));\\\n",
    "      filenamefs=concat(filenamefs,\".txt\");\\\n",
    "      list_of_spaces = List([]);\\\n",
    "      list_generators = List([]);\\\n",
    "      list_dual_generators=List([]);\\\n",
    "      list_generators_real=List([]);\\\n",
    "      list_generators_imaginary=List([]);\\\n",
    "      list_dual_generators_real=List([]);\\\n",
    "      list_dual_generators_imaginary=List([]);\\\n",
    "      for(i=1,level-1,\\\n",
    "          if(gcd(i,level)==1,\\\n",
    "             mf(i)=mfinit([level,weight,Mod(i,level)])));\\\n",
    "      for(i=1,level-1,\\\n",
    "          if(gcd(i,level)==1, \\\n",
    "             listput(list_of_spaces,mf(i))));\\\n",
    "      for(i=1,level-1, \\\n",
    "          if(gcd(i,level)==1, \\\n",
    "             B(i)=mfbasis(mf(i))));\\\n",
    "      for(i=1,level-1,\\\n",
    "          if(gcd(i,level)==1,\\\n",
    "             for(j=1,length(B(i)),\\\n",
    "                 listput(list_generators,mfembed(B(i)[j],mfcoefs(B(i)[j],prec))))));\\\n",
    "      for(i=1,level-1,\\\n",
    "          if(gcd(i,level)==1,\\\n",
    "             for(j=1,length(B(i)),\\\n",
    "                 listput(list_dual_generators,mfslashexpansion(mf(i),B(i)[j],[0,-1;level,0],prec,0,&P)))));\\\n",
    "      for(i=1,length(list_dual_generators),\\\n",
    "          for(j=1,length(list_dual_generators[i]),\\\n",
    "             list_dual_generators[i][j]=((-I)^(-weight))*list_dual_generators[i][j]));\\\n",
    "      for(i=1,length(list_generators),\\\n",
    "          listput(list_generators_real,real(list_generators[i])));\\\n",
    "      for(i=1,length(list_generators_real),\\\n",
    "          for(j=1,length(list_generators_real[i]),\\\n",
    "              if(abs(list_generators_real[i][j])<tol,\\\n",
    "                 list_generators_real[i][j]=0)));\\\n",
    "      for(i=1,length(list_generators),\\\n",
    "          listput(list_generators_imaginary,imag(list_generators[i])));\\\n",
    "      for(i=1,length(list_generators_imaginary),\\\n",
    "          for(j=1,length(list_generators_imaginary[i]),\\\n",
    "              if(abs(list_generators_imaginary[i][j])<tol,\\\n",
    "                 list_generators_imaginary[i][j]=0)));\\\n",
    "      for(i=1,length(list_dual_generators),\\\n",
    "          listput(list_dual_generators_real,real(list_dual_generators[i])));\\\n",
    "      for(i=1,length(list_dual_generators_real),\\\n",
    "          for(j=1,length(list_dual_generators_real[i]),\\\n",
    "              if(abs(list_dual_generators_real[i][j])<tol,\\\n",
    "                 list_dual_generators_real[i][j]=0)));\\\n",
    "      for(i=1,length(list_dual_generators),\\\n",
    "          listput(list_dual_generators_imaginary,\\\n",
    "                  imag(list_dual_generators[i])));\\\n",
    "      for(i=1,length(list_dual_generators_imaginary),\\\n",
    "          for(j=1,length(list_dual_generators_imaginary[i]),\\\n",
    "              if(abs(list_dual_generators_imaginary[i][j])<tol,\\\n",
    "                 list_dual_generators_imaginary[i][j]=0)));\\\n",
    "      for(i=1,length(list_generators),\\\n",
    "          write(filenamefs,list_generators[i]));\\\n",
    "      for(i=1,length(list_dual_generators),\\\n",
    "          write(filenameds,list_dual_generators[i]));\\\n",
    "      for(i=1,length(list_generators),\\\n",
    "          write(realfilenamefs,list_generators_real[i]));\\\n",
    "      for(i=1,length(list_generators),\\\n",
    "          write(imagfilenamefs,list_generators_imaginary[i]));\\\n",
    "      for(i=1,length(list_dual_generators),\\\n",
    "          write(realfilenameds,list_dual_generators_real[i]));\\\n",
    "      for(i=1,length(list_dual_generators),\\\n",
    "          write(imagfilenameds,list_dual_generators_imaginary[i])))\n"
   ]
  },
  {
   "cell_type": "code",
   "execution_count": 15,
   "metadata": {},
   "outputs": [],
   "source": [
    "#get the optimal form\n",
    "prec=75000\n",
    "weight=7/2;\n",
    "weight2=\"7_2\";\n",
    "tol=1/100000\n",
    "list_real_full_space_optimal_forms=[]\n",
    "list_real_dual_space_optimal_forms=[]\n",
    "for i in list_level_xj:\n",
    "    #print(i)\n",
    "    filename = getFilename(i[1], weight2, prec, \"OPTIMAL_FORM_REAL_FULL_SPACE_\", \".txt\")\n",
    "    filenameDual = getFilename(i[1], weight2, prec, \"OPTIMAL_FORM_REAL_DUAL_SPACE_\", \".txt\")\n",
    "    basis = fullspace_to_matrix(filename)\n",
    "    basisDual = fullspace_to_matrix(filenameDual)\n",
    "    basisMx = getMxFromBasisList(basis)\n",
    "    basisMxDual = getMxFromBasisList(basisDual)\n",
    "    u=get_optimal_form(basisMx,i[2])\n",
    "    v=get_optimal_form(basisMxDual,i[2])\n",
    "    for s in range(len(u)):\n",
    "        if abs(u[s])<=tol:\n",
    "            u[s]=0\n",
    "    for s in range(len(v)):\n",
    "        if abs(v[s])<=tol:\n",
    "            v[s]=0\n",
    "    list_real_full_space_optimal_forms.append([i[0],i[1],i[2],u])\n",
    "    list_real_dual_space_optimal_forms.append([i[0],i[1],i[2],v])\n",
    "    "
   ]
  },
  {
   "cell_type": "code",
   "execution_count": 16,
   "metadata": {},
   "outputs": [],
   "source": [
    "#this block prints if there are feasible solutions\n",
    "true_real_fs_optimal_forms=[]\n",
    "true_real_ds_optimal_forms=[]\n",
    "\n",
    "for i in range(len(list_real_full_space_optimal_forms)):\n",
    "    if all(val>=0 for val in list_real_full_space_optimal_forms[i][2])==True :\n",
    "        if all(val>=0 for val in list_real_dual_space_optimal_forms[i][2])==True:\n",
    "            true_real_fs_optimal_forms.append([list_real_full_space_optimal_forms[i][0],list_real_full_space_optimal_forms[i][1],list_real_full_space_optimal_forms[i][2],list_real_full_space_optimal_forms[i][3]])\n",
    "            true_real_ds_optimal_forms.append([list_real_dual_space_optimal_forms[i][0],list_real_dual_space_optimal_forms[i][1],list_real_dual_space_optimal_forms[i][2],list_real_dual_space_optimal_forms[i][3]])\n",
    "            \n",
    "            \n",
    "        \n",
    "\n",
    "\n",
    "\n",
    "#for i in list_real_full_space_optimal_forms:\n",
    "#    if all(val>=0 for val in i[2])==True:\n",
    "#        true_real_fs_optimal_forms.append([i[0],i[1],i[2]])\n",
    "#for i in list_real_dual_space_optimal_forms:\n",
    "#    if all(val>=0 for val in i[2])==True:\n",
    "#        true_real_ds_optimal_forms.aprpend([i[0],i[1],i[2]])\n",
    "\n",
    "filename=\"list_real_fs_optimal_forms_W\"+str(weight2)+\"L\"+str(start)+\"-\"+str(end-1)+\".txt\"\n",
    "filename2=\"list_real_ds_optimal_forms_W\"+str(weight2)+\"L\"+str(start)+\"-\"+str(end-1)+\".txt\"\n",
    "with open(filename,'w') as s:\n",
    "    if len(true_real_fs_optimal_forms)!=0:\n",
    "        for forms in true_real_fs_optimal_forms:\n",
    "            s.writelines(str(forms)+\"\\n\")\n",
    "    else:\n",
    "        s.writelines(\"No solutions were found.\")\n",
    "    s.close()\n",
    "    \n",
    "with open(filename2,'w') as t:\n",
    "    if len(true_real_ds_optimal_forms)!=0:\n",
    "        for forms in true_real_ds_optimal_forms:\n",
    "            t.writelines(str(forms)+\"\\n\")\n",
    "    else:\n",
    "        t.writelines(\"No solutions were found.\")\n",
    "    t.close()\n",
    "\n",
    "\n"
   ]
  },
  {
   "cell_type": "code",
   "execution_count": null,
   "metadata": {},
   "outputs": [],
   "source": [
    "#the code below runs over a fixed level for all value of T up to 500 and plots the value of the density obtained."
   ]
  },
  {
   "cell_type": "code",
   "execution_count": null,
   "metadata": {},
   "outputs": [],
   "source": [
    "list_b0_vs_T=[]"
   ]
  },
  {
   "cell_type": "code",
   "execution_count": null,
   "metadata": {},
   "outputs": [],
   "source": [
    "level=10\n",
    "weight=8\n",
    "prec=500\n",
    "T=11\n",
    "r=REALwriteTheLP(level,weight,prec,T,\"GLPK\")\n",
    "list_b0_vs_T.append(float(r[0])*float(((2/sqrt(level))**weight))*((sqrt(T)/2)**(2*weight)))"
   ]
  },
  {
   "cell_type": "code",
   "execution_count": null,
   "metadata": {},
   "outputs": [],
   "source": [
    "print(list_b0_vs_T)"
   ]
  },
  {
   "cell_type": "code",
   "execution_count": null,
   "metadata": {},
   "outputs": [],
   "source": [
    "max(list_b0_vs_T)"
   ]
  },
  {
   "cell_type": "code",
   "execution_count": null,
   "metadata": {},
   "outputs": [],
   "source": [
    "#plt.figure(figsize=(9, 9))\n",
    "#plt.plot(list_b0_vs_T) \n",
    "#plt.title('(REAL) b0 in function of T for level 19 and weight 3') \n",
    "#plt.draw() \n",
    "#plt.show() \n"
   ]
  },
  {
   "cell_type": "code",
   "execution_count": null,
   "metadata": {},
   "outputs": [],
   "source": [
    "#the code below runs individual computations"
   ]
  },
  {
   "cell_type": "code",
   "execution_count": null,
   "metadata": {},
   "outputs": [],
   "source": [
    "value=r[0]\n",
    "value"
   ]
  },
  {
   "cell_type": "code",
   "execution_count": null,
   "metadata": {},
   "outputs": [],
   "source": [
    "list_xj=r[1]\n",
    "list_xj"
   ]
  },
  {
   "cell_type": "code",
   "execution_count": null,
   "metadata": {},
   "outputs": [],
   "source": [
    "basisMx=r[2]\n",
    "basisMx"
   ]
  },
  {
   "cell_type": "code",
   "execution_count": null,
   "metadata": {},
   "outputs": [],
   "source": [
    "get_optimal_form(basisMx,list_xj)"
   ]
  },
  {
   "cell_type": "code",
   "execution_count": null,
   "metadata": {},
   "outputs": [],
   "source": []
  },
  {
   "cell_type": "code",
   "execution_count": null,
   "metadata": {},
   "outputs": [],
   "source": []
  }
 ],
 "metadata": {
  "kernelspec": {
   "display_name": "SageMath 9.0",
   "language": "sage",
   "name": "sagemath"
  },
  "language_info": {
   "codemirror_mode": {
    "name": "ipython",
    "version": 3
   },
   "file_extension": ".py",
   "mimetype": "text/x-python",
   "name": "python",
   "nbconvert_exporter": "python",
   "pygments_lexer": "ipython3",
   "version": "3.7.3"
  }
 },
 "nbformat": 4,
 "nbformat_minor": 2
}
